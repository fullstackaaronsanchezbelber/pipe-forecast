{
 "cells": [
  {
   "cell_type": "code",
   "execution_count": 1,
   "metadata": {},
   "outputs": [],
   "source": [
    "import os"
   ]
  },
  {
   "cell_type": "code",
   "execution_count": 2,
   "metadata": {},
   "outputs": [
    {
     "data": {
      "text/plain": [
       "'c:\\\\Users\\\\Lenovo\\\\Desktop\\\\mlops-youtube\\\\pipe-forecast\\\\notebooks'"
      ]
     },
     "execution_count": 2,
     "metadata": {},
     "output_type": "execute_result"
    }
   ],
   "source": [
    "%pwd"
   ]
  },
  {
   "cell_type": "code",
   "execution_count": 3,
   "metadata": {},
   "outputs": [
    {
     "data": {
      "text/plain": [
       "'c:\\\\Users\\\\Lenovo\\\\Desktop\\\\mlops-youtube\\\\pipe-forecast'"
      ]
     },
     "execution_count": 3,
     "metadata": {},
     "output_type": "execute_result"
    }
   ],
   "source": [
    "os.chdir('../')\n",
    "%pwd"
   ]
  },
  {
   "cell_type": "code",
   "execution_count": 2,
   "metadata": {},
   "outputs": [],
   "source": [
    "from dataclasses import dataclass\n",
    "from pathlib import Path\n",
    "\n",
    "# El decorador @dataclass automáticamente genera métodos especiales como __init__ y __repr__\n",
    "# frozen=True hace que la instancia de la clase sea inmutable, es decir, sus atributos no pueden ser modificados después de la creación.\n",
    "@dataclass(frozen=True)\n",
    "class DataIngestionConfig:\n",
    "    # root_dir: Path - Directorio raíz donde se almacenarán los artefactos de la ingesta de datos\n",
    "    root_dir: Path\n",
    "    \n",
    "    # source_URL: str - URL de la fuente desde donde se descargará el archivo de datos\n",
    "    source_URL: str\n",
    "    \n",
    "    # local_data_file: Path - Ruta local donde se almacenará el archivo de datos descargado\n",
    "    local_data_file: Path\n",
    "    \n",
    "    # unzip_dir: Path - Directorio donde se descomprimirá el archivo de datos\n",
    "    unzip_dir: Path\n"
   ]
  },
  {
   "cell_type": "code",
   "execution_count": 4,
   "metadata": {},
   "outputs": [],
   "source": [
    "from pipe_forecast.constants import *\n",
    "from pipe_forecast.utils.common import read_yaml, create_directories\n"
   ]
  },
  {
   "cell_type": "code",
   "execution_count": 5,
   "metadata": {},
   "outputs": [],
   "source": [
    "# Definición de la clase ConfigurationManager que gestiona la carga de configuraciones, parámetros y esquemas.\n",
    "class ConfigurationManager:\n",
    "    def __init__(\n",
    "        self,\n",
    "        config_filepath = CONFIG_FILE_PATH,\n",
    "        params_filepath = PARAMS_FILE_PATH,\n",
    "        schema_filepath = SCHEMA_FILE_PATH\n",
    "    ):\n",
    "        # El constructor de la clase inicializa las rutas de los archivos de configuración,\n",
    "        # parámetros y esquemas utilizando valores por defecto definidos anteriormente.\n",
    "        \n",
    "        # Lee el archivo de configuración y almacena el contenido en self.config.\n",
    "        self.config = read_yaml(config_filepath)\n",
    "        \n",
    "        # Lee el archivo de parámetros y almacena el contenido en self.params.\n",
    "        self.params = read_yaml(params_filepath)\n",
    "        \n",
    "        # Lee el archivo de esquema y almacena el contenido en self.schema.\n",
    "        self.schema = read_yaml(schema_filepath)\n",
    "        \n",
    "        # Crea los directorios necesarios para almacenar los artefactos, \n",
    "        # utilizando la ruta definida en el archivo de configuración.\n",
    "        create_directories([self.config.artifacts_root])\n",
    "\n",
    "        # Método para obtener la configuración de la ingesta de datos\n",
    "    def get_data_ingestion_config(self) -> DataIngestionConfig:\n",
    "        # Extrae la configuración de ingesta de datos del archivo de configuración principal\n",
    "        config = self.config.data_ingestion\n",
    "\n",
    "        # Crea el directorio raíz de ingesta de datos si no existe\n",
    "        create_directories([config.root_dir])\n",
    "\n",
    "        # Crea una instancia de DataIngestionConfig con los valores extraídos de la configuración\n",
    "        data_ingestion_config = DataIngestionConfig(\n",
    "            root_dir=config.root_dir,\n",
    "            source_URL=config.source_URL,\n",
    "            local_data_file=config.local_data_file,\n",
    "            unzip_dir=config.unzip_dir \n",
    "        )\n",
    "\n",
    "        # Devuelve la instancia de DataIngestionConfig\n",
    "        return data_ingestion_config\n",
    "\n",
    "\n",
    "# Funciones auxiliares utilizadas por ConfigurationManager (no definidas en el código proporcionado):\n",
    "# - read_yaml(filepath): Lee un archivo YAML y devuelve su contenido como un diccionario u objeto.\n",
    "# - create_directories(list_of_directories): Crea los directorios especificados si no existen.\n"
   ]
  },
  {
   "cell_type": "code",
   "execution_count": 6,
   "metadata": {},
   "outputs": [],
   "source": [
    "import os\n",
    "import urllib.request as request\n",
    "import zipfile\n",
    "from pipe_forecast import logger\n",
    "from pipe_forecast.utils.common import get_size"
   ]
  },
  {
   "cell_type": "code",
   "execution_count": 7,
   "metadata": {},
   "outputs": [],
   "source": [
    "import os\n",
    "from pathlib import Path\n",
    "from urllib import request\n",
    "from pipe_forecast import logger\n",
    "\n",
    "class DataIngestion:\n",
    "    def __init__(self, config: DataIngestionConfig):\n",
    "        \"\"\"\n",
    "        Inicializa una instancia de DataIngestion con una configuración específica.\n",
    "\n",
    "        Args:\n",
    "            config (DataIngestionConfig): Objeto de configuración de ingesta de datos.\n",
    "        \"\"\"\n",
    "        self.config = config\n",
    "\n",
    "    def download_file(self):\n",
    "        \"\"\"\n",
    "        Descarga el archivo desde la URL especificada en la configuración.\n",
    "        Solo descarga el archivo si no existe localmente.\n",
    "        \"\"\"\n",
    "        # Verifica si el archivo ya existe localmente\n",
    "        if not os.path.exists(self.config.local_data_file):\n",
    "            # Descarga el archivo desde la URL especificada\n",
    "            filename, headers = request.urlretrieve(\n",
    "                url=self.config.source_URL,\n",
    "                filename=self.config.local_data_file\n",
    "            )\n",
    "            # Registra un mensaje de éxito con información adicional del encabezado de la descarga\n",
    "            logger.info(f\"{filename} descargado con la siguiente información: \\n{headers}\")\n",
    "        else:\n",
    "            # Si el archivo ya existe, registra un mensaje con el tamaño del archivo\n",
    "            logger.info(f\"El archivo ya existe con tamaño: {get_size(Path(self.config.local_data_file))}\")\n",
    "\n",
    "    def extract_zip_file(self):\n",
    "        \"\"\"\n",
    "        Extrae el archivo zip en el directorio de datos especificado en la configuración.\n",
    "        Crea el directorio de destino si no existe.\n",
    "        \"\"\"\n",
    "        # Ruta del directorio donde se descomprimirá el archivo\n",
    "        unzip_path = self.config.unzip_dir\n",
    "        \n",
    "        # Crea el directorio si no existe\n",
    "        os.makedirs(unzip_path, exist_ok=True)\n",
    "        \n",
    "        # Abre el archivo zip y extrae su contenido en el directorio especificado\n",
    "        with zipfile.ZipFile(self.config.local_data_file, 'r') as zip_ref:\n",
    "            zip_ref.extractall(unzip_path)\n",
    "        \n",
    "        # Registro de éxito en la extracción\n",
    "        logger.info(f\"Archivo zip extraído en: {unzip_path}\")\n",
    "\n",
    "# Funciones y clases auxiliares (asumiendo que están definidas en otros lugares del proyecto)\n",
    "# - DataIngestionConfig: Clase de configuración para la ingesta de datos\n",
    "# - get_size(path): Función que obtiene el tamaño del archivo en KB y devuelve una cadena de texto con el tamaño aproximado\n",
    "# - logger: Objeto de registro configurado para la aplicación\n"
   ]
  },
  {
   "cell_type": "code",
   "execution_count": 10,
   "metadata": {},
   "outputs": [
    {
     "ename": "FileNotFoundError",
     "evalue": "[Errno 2] No such file or directory: 'config\\\\config.yaml'",
     "output_type": "error",
     "traceback": [
      "\u001b[1;31m---------------------------------------------------------------------------\u001b[0m",
      "\u001b[1;31mFileNotFoundError\u001b[0m                         Traceback (most recent call last)",
      "Cell \u001b[1;32mIn[10], line 19\u001b[0m\n\u001b[0;32m     15\u001b[0m     data_ingestion\u001b[38;5;241m.\u001b[39mextract_zip_file()\n\u001b[0;32m     17\u001b[0m \u001b[38;5;28;01mexcept\u001b[39;00m \u001b[38;5;167;01mException\u001b[39;00m \u001b[38;5;28;01mas\u001b[39;00m e:\n\u001b[0;32m     18\u001b[0m     \u001b[38;5;66;03m# Si ocurre alguna excepción, la re-lanza después de capturarla\u001b[39;00m\n\u001b[1;32m---> 19\u001b[0m     \u001b[38;5;28;01mraise\u001b[39;00m e\n",
      "Cell \u001b[1;32mIn[10], line 3\u001b[0m\n\u001b[0;32m      1\u001b[0m \u001b[38;5;28;01mtry\u001b[39;00m:\n\u001b[0;32m      2\u001b[0m     \u001b[38;5;66;03m# Crear una instancia de ConfigurationManager para cargar las configuraciones\u001b[39;00m\n\u001b[1;32m----> 3\u001b[0m     config \u001b[38;5;241m=\u001b[39m \u001b[43mConfigurationManager\u001b[49m\u001b[43m(\u001b[49m\u001b[43m)\u001b[49m\n\u001b[0;32m      5\u001b[0m     \u001b[38;5;66;03m# Obtener la configuración de ingesta de datos\u001b[39;00m\n\u001b[0;32m      6\u001b[0m     data_ingestion_config \u001b[38;5;241m=\u001b[39m config\u001b[38;5;241m.\u001b[39mget_data_ingestion_config()\n",
      "Cell \u001b[1;32mIn[5], line 13\u001b[0m, in \u001b[0;36mConfigurationManager.__init__\u001b[1;34m(self, config_filepath, params_filepath, schema_filepath)\u001b[0m\n\u001b[0;32m      3\u001b[0m \u001b[38;5;28;01mdef\u001b[39;00m \u001b[38;5;21m__init__\u001b[39m(\n\u001b[0;32m      4\u001b[0m     \u001b[38;5;28mself\u001b[39m,\n\u001b[0;32m      5\u001b[0m     config_filepath \u001b[38;5;241m=\u001b[39m CONFIG_FILE_PATH,\n\u001b[1;32m   (...)\u001b[0m\n\u001b[0;32m     11\u001b[0m     \n\u001b[0;32m     12\u001b[0m     \u001b[38;5;66;03m# Lee el archivo de configuración y almacena el contenido en self.config.\u001b[39;00m\n\u001b[1;32m---> 13\u001b[0m     \u001b[38;5;28mself\u001b[39m\u001b[38;5;241m.\u001b[39mconfig \u001b[38;5;241m=\u001b[39m \u001b[43mread_yaml\u001b[49m\u001b[43m(\u001b[49m\u001b[43mconfig_filepath\u001b[49m\u001b[43m)\u001b[49m\n\u001b[0;32m     15\u001b[0m     \u001b[38;5;66;03m# Lee el archivo de parámetros y almacena el contenido en self.params.\u001b[39;00m\n\u001b[0;32m     16\u001b[0m     \u001b[38;5;28mself\u001b[39m\u001b[38;5;241m.\u001b[39mparams \u001b[38;5;241m=\u001b[39m read_yaml(params_filepath)\n",
      "File \u001b[1;32mc:\\Users\\Lenovo\\Desktop\\mlops-youtube\\pipe-forecast\\pipe-fo\\Lib\\site-packages\\ensure\\main.py:872\u001b[0m, in \u001b[0;36mWrappedFunctionReturn.__call__\u001b[1;34m(self, *args, **kwargs)\u001b[0m\n\u001b[0;32m    869\u001b[0m         msg \u001b[38;5;241m=\u001b[39m \u001b[38;5;124m\"\u001b[39m\u001b[38;5;124mArgument \u001b[39m\u001b[38;5;132;01m{arg}\u001b[39;00m\u001b[38;5;124m of type \u001b[39m\u001b[38;5;132;01m{valt}\u001b[39;00m\u001b[38;5;124m to \u001b[39m\u001b[38;5;132;01m{f}\u001b[39;00m\u001b[38;5;124m \u001b[39m\u001b[38;5;124m\"\u001b[39m \u001b[38;5;124m\"\u001b[39m\u001b[38;5;124mdoes not match annotation type \u001b[39m\u001b[38;5;132;01m{t}\u001b[39;00m\u001b[38;5;124m\"\u001b[39m\n\u001b[0;32m    870\u001b[0m         \u001b[38;5;28;01mraise\u001b[39;00m EnsureError(msg\u001b[38;5;241m.\u001b[39mformat(arg\u001b[38;5;241m=\u001b[39marg, f\u001b[38;5;241m=\u001b[39m\u001b[38;5;28mself\u001b[39m\u001b[38;5;241m.\u001b[39mf, t\u001b[38;5;241m=\u001b[39mtempl, valt\u001b[38;5;241m=\u001b[39m\u001b[38;5;28mtype\u001b[39m(value)))\n\u001b[1;32m--> 872\u001b[0m return_val \u001b[38;5;241m=\u001b[39m \u001b[38;5;28;43mself\u001b[39;49m\u001b[38;5;241;43m.\u001b[39;49m\u001b[43mf\u001b[49m\u001b[43m(\u001b[49m\u001b[38;5;241;43m*\u001b[39;49m\u001b[43margs\u001b[49m\u001b[43m,\u001b[49m\u001b[43m \u001b[49m\u001b[38;5;241;43m*\u001b[39;49m\u001b[38;5;241;43m*\u001b[39;49m\u001b[43mkwargs\u001b[49m\u001b[43m)\u001b[49m\n\u001b[0;32m    873\u001b[0m \u001b[38;5;28;01mif\u001b[39;00m \u001b[38;5;129;01mnot\u001b[39;00m \u001b[38;5;28misinstance\u001b[39m(return_val, \u001b[38;5;28mself\u001b[39m\u001b[38;5;241m.\u001b[39mreturn_templ):\n\u001b[0;32m    874\u001b[0m     msg \u001b[38;5;241m=\u001b[39m \u001b[38;5;124m\"\u001b[39m\u001b[38;5;124mReturn value of \u001b[39m\u001b[38;5;132;01m{f}\u001b[39;00m\u001b[38;5;124m of type \u001b[39m\u001b[38;5;132;01m{valt}\u001b[39;00m\u001b[38;5;124m \u001b[39m\u001b[38;5;124m\"\u001b[39m \u001b[38;5;124m\"\u001b[39m\u001b[38;5;124mdoes not match annotation type \u001b[39m\u001b[38;5;132;01m{t}\u001b[39;00m\u001b[38;5;124m\"\u001b[39m\n",
      "File \u001b[1;32m~\\Desktop\\mlops-youtube\\pipe-forecast\\src\\pipe_forecast\\utils\\common.py:35\u001b[0m, in \u001b[0;36mread_yaml\u001b[1;34m(path_to_yaml)\u001b[0m\n\u001b[0;32m     33\u001b[0m     \u001b[38;5;28;01mraise\u001b[39;00m \u001b[38;5;167;01mValueError\u001b[39;00m(\u001b[38;5;124m\"\u001b[39m\u001b[38;5;124mEl archivo YAML está vacío\u001b[39m\u001b[38;5;124m\"\u001b[39m)\n\u001b[0;32m     34\u001b[0m \u001b[38;5;28;01mexcept\u001b[39;00m \u001b[38;5;167;01mException\u001b[39;00m \u001b[38;5;28;01mas\u001b[39;00m e:\n\u001b[1;32m---> 35\u001b[0m     \u001b[38;5;28;01mraise\u001b[39;00m e\n",
      "File \u001b[1;32m~\\Desktop\\mlops-youtube\\pipe-forecast\\src\\pipe_forecast\\utils\\common.py:28\u001b[0m, in \u001b[0;36mread_yaml\u001b[1;34m(path_to_yaml)\u001b[0m\n\u001b[0;32m     14\u001b[0m \u001b[38;5;250m\u001b[39m\u001b[38;5;124;03m\"\"\"\u001b[39;00m\n\u001b[0;32m     15\u001b[0m \u001b[38;5;124;03mLee un archivo YAML y devuelve su contenido como un objeto ConfigBox.\u001b[39;00m\n\u001b[0;32m     16\u001b[0m \u001b[38;5;124;03m\u001b[39;00m\n\u001b[1;32m   (...)\u001b[0m\n\u001b[0;32m     25\u001b[0m \u001b[38;5;124;03m    ConfigBox: Contenido del archivo YAML como un objeto ConfigBox.\u001b[39;00m\n\u001b[0;32m     26\u001b[0m \u001b[38;5;124;03m\"\"\"\u001b[39;00m\n\u001b[0;32m     27\u001b[0m \u001b[38;5;28;01mtry\u001b[39;00m:\n\u001b[1;32m---> 28\u001b[0m     \u001b[38;5;28;01mwith\u001b[39;00m \u001b[38;5;28;43mopen\u001b[39;49m\u001b[43m(\u001b[49m\u001b[43mpath_to_yaml\u001b[49m\u001b[43m)\u001b[49m \u001b[38;5;28;01mas\u001b[39;00m yaml_file:\n\u001b[0;32m     29\u001b[0m         content \u001b[38;5;241m=\u001b[39m yaml\u001b[38;5;241m.\u001b[39msafe_load(yaml_file)\n\u001b[0;32m     30\u001b[0m         logger\u001b[38;5;241m.\u001b[39minfo(\u001b[38;5;124mf\u001b[39m\u001b[38;5;124m\"\u001b[39m\u001b[38;5;124mArchivo YAML: \u001b[39m\u001b[38;5;132;01m{\u001b[39;00mpath_to_yaml\u001b[38;5;132;01m}\u001b[39;00m\u001b[38;5;124m cargado con éxito\u001b[39m\u001b[38;5;124m\"\u001b[39m)\n",
      "\u001b[1;31mFileNotFoundError\u001b[0m: [Errno 2] No such file or directory: 'config\\\\config.yaml'"
     ]
    }
   ],
   "source": [
    "try:\n",
    "    # Crear una instancia de ConfigurationManager para cargar las configuraciones\n",
    "    config = ConfigurationManager()\n",
    "    \n",
    "    # Obtener la configuración de ingesta de datos\n",
    "    data_ingestion_config = config.get_data_ingestion_config()\n",
    "    \n",
    "    # Crear una instancia de DataIngestion con la configuración obtenida\n",
    "    data_ingestion = DataIngestion(config=data_ingestion_config)\n",
    "    \n",
    "    # Descargar el archivo especificado en la configuración\n",
    "    data_ingestion.download_file()\n",
    "    \n",
    "    # Extraer el archivo zip descargado en el directorio especificado\n",
    "    data_ingestion.extract_zip_file()\n",
    "\n",
    "except Exception as e:\n",
    "    # Si ocurre alguna excepción, la re-lanza después de capturarla\n",
    "    raise e\n"
   ]
  },
  {
   "cell_type": "code",
   "execution_count": null,
   "metadata": {},
   "outputs": [],
   "source": []
  }
 ],
 "metadata": {
  "kernelspec": {
   "display_name": "indi",
   "language": "python",
   "name": "python3"
  },
  "language_info": {
   "codemirror_mode": {
    "name": "ipython",
    "version": 3
   },
   "file_extension": ".py",
   "mimetype": "text/x-python",
   "name": "python",
   "nbconvert_exporter": "python",
   "pygments_lexer": "ipython3",
   "version": "3.12.2"
  }
 },
 "nbformat": 4,
 "nbformat_minor": 2
}
